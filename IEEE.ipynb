{
  "nbformat": 4,
  "nbformat_minor": 0,
  "metadata": {
    "colab": {
      "name": "IEEE_Post.ipynb",
      "provenance": [],
      "collapsed_sections": []
    },
    "kernelspec": {
      "name": "python3",
      "display_name": "Python 3"
    }
  },
  "cells": [
    {
      "cell_type": "code",
      "metadata": {
        "id": "a_lDYDG65M_H",
        "outputId": "97bdc36a-d8a3-4547-8be4-92c69d47e9c7",
        "colab": {
          "base_uri": "https://localhost:8080/"
        }
      },
      "source": [
        "from google.colab import drive\n",
        "drive.mount('/content/drive')"
      ],
      "execution_count": null,
      "outputs": []
    },
    {
      "cell_type": "code",
      "metadata": {
        "id": "1bvoabf0bI4x"
      },
      "source": [
        "import csv\n",
        "import sys\n",
        "import requests\n",
        "import math"
      ],
      "execution_count": null,
      "outputs": []
    },
    {
      "cell_type": "code",
      "metadata": {
        "id": "zutFRgdHksgO",
        "outputId": "1eb14f48-b2ec-42de-e39a-c9440b6dfded",
        "colab": {
          "base_uri": "https://localhost:8080/"
        }
      },
      "source": [
        "headers = {\n",
        "    'Content-Type': 'application/json',\n",
        "    'Origin': 'https://ieeexplore.ieee.org',\n",
        "}\n",
        "pageNo = 1\n",
        "recordIds = []\n",
        "totalPages = pageNo\n",
        "while(pageNo<=totalPages):\n",
        "  data = '''{\"action\":\"search\",\n",
        "  \"newsearch\":true,\n",
        "  \"matchBoolean\":true,\n",
        "  \"queryText\":\"((\\\\\"All Metadata\\\\\":moon) AND \\\\\"All Metadata\\\\\":mars)\",\n",
        "  \"ranges\":[\"1872_2021_Year\"],\n",
        "  \"highlight\":true,\n",
        "  \"returnFacets\":[\"ALL\"],\n",
        "  \"returnType\":\"SEARCH\",\n",
        "  \"matchPubs\":true,\n",
        "  \"rowsPerPage\":\"100\",\n",
        "  \"pageNumber\":''' + str(pageNo) +'}'\n",
        "\n",
        "  response = requests.post('https://ieeexplore.ieee.org/rest/search', headers=headers, data=str(data))\n",
        "  # print(response)\n",
        "  response = response.json()\n",
        "  # print(response)\n",
        "  # print(len(response['records']))\n",
        "  splitInd = len('/document/')\n",
        "  totalRecords = response['totalRecords']\n",
        "  totalPages = math.ceil(totalRecords/100)\n",
        "  recordsCount = min(totalRecords - (pageNo-1)*100, 100)\n",
        "  records = response['records']\n",
        "  print(totalPages, recordsCount)\n",
        "  print(response)\n",
        "  for recordInd in range(0, recordsCount):\n",
        "    # print(records[0]['documentLink'][splitInd:-1])\n",
        "    # print(recordInd)\n",
        "    try:\n",
        "      recordIds.append(records[recordInd]['documentLink'][splitInd:-1])\n",
        "      # print(recordInd, records[recordInd]['documentLink'][splitInd:-1])\n",
        "    except Exception as e:\n",
        "      print(repr(e), 'Document link not available :', recordInd+(pageNo-1)*100+1)\n",
        "  pageNo+=1\n",
        "print(len(recordIds))"
      ],
      "execution_count": null,
      "outputs": []
    },
    {
      "cell_type": "code",
      "metadata": {
        "id": "1QrIez9fjuK_",
        "outputId": "c33f85ea-84e7-47ed-b7fd-178507ffc695",
        "colab": {
          "base_uri": "https://localhost:8080/"
        }
      },
      "source": [
        "print(len(recordIds))"
      ],
      "execution_count": null,
      "outputs": []
    },
    {
      "cell_type": "code",
      "metadata": {
        "id": "wWuxEp81iyYT",
        "outputId": "befe0c70-f31e-48a5-9aef-e0ac70701392",
        "colab": {
          "base_uri": "https://localhost:8080/"
        }
      },
      "source": [
        "bibs = []\n",
        "headers={\n",
        "    'Accept': 'application/json',\n",
        "    # 'Content-Type':'application/json'\n",
        "}\n",
        "data={\n",
        "    'recordIds' : None,\n",
        "    'download-format' : 'download-bibtex',\n",
        "    'citations-format' :'citation-abstract'\n",
        "}\n",
        "url = 'https://ieeexplore.ieee.org/xpl/downloadCitations'\n",
        "for recordId in recordIds:\n",
        "  try:\n",
        "    print(recordId)\n",
        "    data['recordIds'] = str(recordId)\n",
        "    response = requests.post(url, headers=headers, data=data) \n",
        "    bib = response.text\n",
        "    # print(bib)\n",
        "    bib = bib.replace(\"<br>\", \"\")\n",
        "    # print(bib)\n",
        "    bibtex = bib.strip(\"}\").strip(\"\\t \") + '\\n'\n",
        "    # print(bibtex)\n",
        "    ind = bibtex.index(\"{\")\n",
        "    bib_dict = {}\n",
        "    bib_dict[\"type\"] = bibtex[:ind]\n",
        "    bibtex = bibtex[ind+1:]\n",
        "    ind = bibtex.index(\"\\n\")\n",
        "    bib_dict[\"id\"] = bibtex[:ind-1]\n",
        "    bibtex = bibtex[ind+1:]\n",
        "    while(bibtex != \"\" and bibtex != \"\\n\"): #len(bibtext) > 3):\n",
        "      # print(bibtex)\n",
        "      # print(\"bib\", bibtex, len(bibtex))\n",
        "      ind = bibtex.index(\"\\n\")\n",
        "      attribute = bibtex[:ind].strip(\"\\t,\")\n",
        "      # print(\"attr\",attribute)\n",
        "      try:\n",
        "        ind_attr = attribute.index(\"=\")\n",
        "      except Exception as e:\n",
        "        bibtex = bibtex[1:]\n",
        "        continue\n",
        "      # print(ind_attr)\n",
        "      bib_dict[attribute[:ind_attr].strip()] = attribute[ind_attr+1:].strip('{} \\r,')\n",
        "      bibtex = bibtex[ind + 1:]\n",
        "    # print(bib_dict)\n",
        "    bibs.append(bib_dict)\n",
        "  except Exception as e:\n",
        "    continue"
      ],
      "execution_count": null,
      "outputs": []
    },
    {
      "cell_type": "code",
      "metadata": {
        "id": "7qnGfbe7snx7",
        "outputId": "f29ef995-5284-457f-916b-030a29b4dbdf",
        "colab": {
          "base_uri": "https://localhost:8080/"
        }
      },
      "source": [
        "print(len(bibs), bibs)"
      ],
      "execution_count": null,
      "outputs": []
    },
    {
      "cell_type": "code",
      "metadata": {
        "id": "4apNr9sv9vHa",
        "outputId": "0654fe54-1fed-46a9-f511-9f6e56b3bb05",
        "colab": {
          "base_uri": "https://localhost:8080/"
        }
      },
      "source": [
        "output_json = {}\n",
        "for bib in range(0, len(bibs)):\n",
        "  print(bibs[bib])\n",
        "  output_json[bib] = bibs[bib]"
      ],
      "execution_count": null,
      "outputs": []
    },
    {
      "cell_type": "code",
      "metadata": {
        "id": "qcQl7dNMEmC8",
        "outputId": "a7c5be77-1be4-493b-cb44-00317e57ace2",
        "colab": {
          "base_uri": "https://localhost:8080/"
        }
      },
      "source": [
        "print(output_json)"
      ],
      "execution_count": null,
      "outputs": []
    },
    {
      "cell_type": "code",
      "metadata": {
        "id": "Nd59r_hz5Oyf"
      },
      "source": [
        "import json\n",
        "filename = \"/content/drive/My Drive/bibtex_ieee.json\"    \n",
        "with open(filename, 'w') as outfile:\n",
        "    json.dump(output_json, outfile)"
      ],
      "execution_count": null,
      "outputs": []
    },
    {
      "cell_type": "code",
      "metadata": {
        "id": "cJg-5m54Eq15"
      },
      "source": [
        ""
      ],
      "execution_count": null,
      "outputs": []
    }
  ]
}