{
  "nbformat": 4,
  "nbformat_minor": 0,
  "metadata": {
    "colab": {
      "name": "ScienceDirectFinal.ipynb",
      "provenance": [],
      "collapsed_sections": []
    },
    "kernelspec": {
      "name": "python3",
      "display_name": "Python 3"
    }
  },
  "cells": [
    {
      "cell_type": "code",
      "metadata": {
        "id": "a_lDYDG65M_H",
        "outputId": "b2858fea-33f0-4eed-c4bf-bc52f39d5e58",
        "colab": {
          "base_uri": "https://localhost:8080/"
        }
      },
      "source": [
        "from google.colab import drive\n",
        "drive.mount('/content/drive')"
      ],
      "execution_count": null,
      "outputs": []
    },
    {
      "cell_type": "code",
      "metadata": {
        "id": "xG2ezjBKk1SX",
        "outputId": "8bcea186-1d81-4ecb-bd73-073f9df18b1d",
        "colab": {
          "base_uri": "https://localhost:8080/",
          "height": 599
        }
      },
      "source": [
        "!pip install requests_html"
      ],
      "execution_count": null,
      "outputs": []
    },
    {
      "cell_type": "code",
      "metadata": {
        "id": "1bvoabf0bI4x"
      },
      "source": [
        "from bs4 import BeautifulSoup as soup\n",
        "from urllib.request import urlopen\n",
        "import csv\n",
        "import sys\n",
        "import urllib\n",
        "from urllib.error import HTTPError\n",
        "from requests_html import HTMLSession"
      ],
      "execution_count": null,
      "outputs": []
    },
    {
      "cell_type": "code",
      "metadata": {
        "id": "zutFRgdHksgO",
        "outputId": "25f7ca75-65d0-49ff-e84a-b707acdbe4b9",
        "colab": {
          "base_uri": "https://localhost:8080/"
        }
      },
      "source": [
        "session = HTMLSession()\n",
        "off = 0\n",
        "show = '&show=100'\n",
        "sd_url = 'https://www.sciencedirect.com/search?qs=animal%20data%20star%20classification%20bag'\n",
        "r = session.get(sd_url)\n",
        "page_soup = soup(r.text, \"html.parser\")\n",
        "result_count = 0\n",
        "result_count = int(page_soup.find(\"span\", {\"class\" : \"search-body-results-text\"}).text.strip().split()[0])\n",
        "# print(result_count)\n",
        "individual_urls = []\n",
        "while(off<result_count):\n",
        "  offset = \"&offset=\" + str(off)\n",
        "  off += 100\n",
        "  sd_url = 'https://www.sciencedirect.com/search?qs=animal%20data%20star%20classification%20bag' + show + offset\n",
        "  r = session.get(sd_url)\n",
        "  page_soup = soup(r.text, \"html.parser\")\n",
        "  containers = page_soup.findAll(\"a\", {\"class\" : \"result-list-title-link\"})\n",
        "  url_prefix = \"https://www.sciencedirect.com\"\n",
        "\n",
        "  for container in containers:\n",
        "    container = container[\"href\"];\n",
        "    paper_url = url_prefix + container\n",
        "    individual_urls.append(paper_url)\n",
        "    print(paper_url)"
      ],
      "execution_count": null,
      "outputs": []
    },
    {
      "cell_type": "code",
      "metadata": {
        "id": "LQ7CeVZqqVee",
        "outputId": "f14c645b-5b25-4e3c-8e23-abd33c069ecf",
        "colab": {
          "base_uri": "https://localhost:8080/"
        }
      },
      "source": [
        "print(len(individual_urls))"
      ],
      "execution_count": null,
      "outputs": []
    },
    {
      "cell_type": "code",
      "metadata": {
        "id": "P7xoFBks-dYt"
      },
      "source": [
        "url = 'https://www.sciencedirect.com/sdfe/arp/cite'\n",
        "suffix = '?pii=S0264410X18315482&format=text%2Fx-bibtex&withabstract=true'"
      ],
      "execution_count": null,
      "outputs": []
    },
    {
      "cell_type": "code",
      "metadata": {
        "id": "JbeqjtkJLkrs",
        "outputId": "481fe486-8860-4c33-d0c6-bf81856ce5b9",
        "colab": {
          "base_uri": "https://localhost:8080/"
        }
      },
      "source": [
        "import requests\n",
        "\n",
        "headers = {\n",
        "    'user-agent': 'My User Agent 1.0',\n",
        "}\n",
        "sd_url = 'https://www.sciencedirect.com/sdfe/arp/cite'\n",
        "params = {\n",
        "    'pii': None,\n",
        "    'format': 'text/x-bibtex',\n",
        "    'withabstract': 'true',\n",
        "}\n",
        "\n",
        "bibs_responses = []\n",
        "for url in individual_urls:\n",
        "  ind = len(url) - 1 - url[::-1].index('/')\n",
        "  pii = url[ind+1:]\n",
        "  print(pii)\n",
        "  params['pii'] = pii\n",
        "  # print(params)\n",
        "  bibs_responses.append(requests.get(sd_url, headers=headers, params=params).text)\n",
        "  # print(response.text)"
      ],
      "execution_count": null,
      "outputs": []
    },
    {
      "cell_type": "code",
      "metadata": {
        "id": "dRE8-ePERaP-",
        "outputId": "84e2fdc2-ec23-457d-cf85-e856b8b63905",
        "colab": {
          "base_uri": "https://localhost:8080/"
        }
      },
      "source": [
        "print(len(bibs_responses))"
      ],
      "execution_count": null,
      "outputs": []
    },
    {
      "cell_type": "code",
      "metadata": {
        "id": "sCs7hddYI80d"
      },
      "source": [
        "import pprint\n",
        "bibs = []\n",
        "for bib in bibs_responses[:1]:\n",
        "  # print(bib)\n",
        "  bibtex = bib.strip(\"}\").strip(\"\\t \") + '\\n'\n",
        "  # print(bibtex)\n",
        "  ind = bibtex.index(\"{\")\n",
        "  bib_dict = {}\n",
        "  bib_dict[\"type\"] = bibtex[:ind]\n",
        "  bibtex = bibtex[ind+1:]\n",
        "  ind = bibtex.index(\"\\n\")\n",
        "  bib_dict[\"id\"] = bibtex[:ind-1]\n",
        "  bibtex = bibtex[ind+1:]\n",
        "  while(bibtex != \"\" and bibtex != \"\\n\"): #len(bibtext) > 3):\n",
        "    # print(bibtex)\n",
        "    # print(\"bib\", bibtex, len(bibtex))\n",
        "    ind = bibtex.index(\"\\n\")\n",
        "    attribute = bibtex[:ind].strip(\"\\t,\")\n",
        "    ind_attr = attribute.index(\"=\")\n",
        "    bib_dict[attribute[:ind_attr].strip()] = attribute[ind_attr+1:].strip()\n",
        "    bibtex = bibtex[ind + 1:]\n",
        "  # pprint.p\n",
        "  # print(bib_dict)\n",
        "  bibs.append(bib_dict)"
      ],
      "execution_count": null,
      "outputs": []
    },
    {
      "cell_type": "code",
      "metadata": {
        "id": "PwagEGceDCeq",
        "outputId": "cb42aa87-e65f-42c7-bd7b-bcd8e711c1eb",
        "colab": {
          "base_uri": "https://localhost:8080/"
        }
      },
      "source": [
        "print(bibs)"
      ],
      "execution_count": null,
      "outputs": []
    },
    {
      "cell_type": "code",
      "metadata": {
        "id": "4apNr9sv9vHa",
        "outputId": "061af529-c447-4dce-98fa-17b5c4d358c5",
        "colab": {
          "base_uri": "https://localhost:8080/"
        }
      },
      "source": [
        "output_json = {}\n",
        "for bib in range(0, len(bibs)):\n",
        "  print(bibs[bib])\n",
        "  output_json[bib] = bibs[bib]"
      ],
      "execution_count": null,
      "outputs": []
    },
    {
      "cell_type": "code",
      "metadata": {
        "id": "qcQl7dNMEmC8",
        "outputId": "0cc44c89-4dcb-4cf1-b126-de7c8990373b",
        "colab": {
          "base_uri": "https://localhost:8080/"
        }
      },
      "source": [
        "print(output_json)"
      ],
      "execution_count": null,
      "outputs": []
    },
    {
      "cell_type": "code",
      "metadata": {
        "id": "Nd59r_hz5Oyf"
      },
      "source": [
        "import json\n",
        "filename = \"/content/drive/My Drive/bibtex_sd.json\"    \n",
        "with open(filename, 'w') as outfile:\n",
        "    json.dump(output_json, outfile)"
      ],
      "execution_count": null,
      "outputs": []
    }
  ]
}